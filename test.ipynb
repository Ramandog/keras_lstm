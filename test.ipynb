{
 "cells": [
  {
   "cell_type": "code",
   "execution_count": 1,
   "metadata": {},
   "outputs": [],
   "source": [
    "import tensorflow as tf\n",
    "import pandas as pd\n",
    "import numpy as np\n",
    "from sklearn.preprocessing import LabelEncoder\n"
   ]
  },
  {
   "cell_type": "code",
   "execution_count": 2,
   "metadata": {},
   "outputs": [],
   "source": [
    "data = pd.read_csv('zb.csv', encoding='utf-8')\n",
    "gz = data.values[:, 0].reshape(-1, 1).astype(float)\n",
    "X = np.expand_dims(data.values[:, 1:].astype(float), axis=2)"
   ]
  },
  {
   "cell_type": "code",
   "execution_count": 15,
   "metadata": {},
   "outputs": [],
   "source": [
    "data = pd.read_csv('g2train1.csv')\n",
    "Ethanol = data.values[:, 4].reshape(-1, 1).astype(float)\n",
    "Phosphate = data.values[:, 5].reshape(-1, 1)\n",
    "Acetate = data.values[:, 6].reshape(-1, 1)\n",
    "lactate = data.values[:, 7].reshape(-1, 1)\n",
    "BDO = data.values[:, 8].reshape(-1, 1)\n",
    "X = np.expand_dims(data.values[:, 10:].astype(float), axis=2)\n",
    "time = np.array(data.iloc[:, 0]).reshape(-1, 1)"
   ]
  },
  {
   "cell_type": "code",
   "execution_count": null,
   "metadata": {},
   "outputs": [],
   "source": []
  },
  {
   "cell_type": "code",
   "execution_count": 7,
   "metadata": {},
   "outputs": [],
   "source": [
    "data = pd.read_csv('g1train.csv', encoding='utf-8')\n",
    "\n",
    "\n",
    "\n",
    "\"\"\"\n",
    "Ethanol = data.values[:, 2].reshape(-1, 1).astype(float)\n",
    "Phosphate = data.values[:, 3].reshape(-1, 1).astype(float)\n",
    "Acetate = data.values[:, 4].reshape(-1, 1).astype(float)\n",
    "BDO = data.values[:, 5].reshape(-1, 1).astype(float)\n",
    "X = np.expand_dims(data.values[:, 10:].astype(float), axis=2)\n",
    "\"\"\"\n"
   ]
  },
  {
   "cell_type": "code",
   "execution_count": null,
   "metadata": {},
   "outputs": [],
   "source": []
  },
  {
   "cell_type": "code",
   "execution_count": 5,
   "metadata": {},
   "outputs": [
    {
     "name": "stderr",
     "output_type": "stream",
     "text": [
      "d:\\ANACONDA\\envs\\TF\\lib\\site-packages\\sklearn\\preprocessing\\_label.py:115: DataConversionWarning: A column-vector y was passed when a 1d array was expected. Please change the shape of y to (n_samples, ), for example using ravel().\n",
      "  y = column_or_1d(y, warn=True)\n"
     ]
    }
   ],
   "source": [
    "'''\n",
    "# 类别向量转换为独热编码\n",
    "from keras.utils import np_utils\n",
    "encoder = LabelEncoder()\n",
    "Y_encoded = encoder.fit_transform(Y)\n",
    "Y_onehot = np_utils.to_categorical(Y_encoded) # 转换成矩阵\n",
    "'''\n"
   ]
  },
  {
   "cell_type": "code",
   "execution_count": 6,
   "metadata": {},
   "outputs": [
    {
     "data": {
      "text/plain": [
       "(2466, 1024)"
      ]
     },
     "execution_count": 6,
     "metadata": {},
     "output_type": "execute_result"
    }
   ],
   "source": [
    "X.shape"
   ]
  },
  {
   "cell_type": "code",
   "execution_count": 16,
   "metadata": {},
   "outputs": [],
   "source": [
    "# 划分训练集，测试集\n",
    "from sklearn.model_selection import train_test_split\n",
    "X_train, X_test, Y_train, Y_test = train_test_split(X, Ethanol, test_size=0.2, random_state=0)\n"
   ]
  },
  {
   "cell_type": "code",
   "execution_count": 3,
   "metadata": {},
   "outputs": [],
   "source": [
    "from keras.models import Sequential\n",
    "from keras.layers import Dense, Activation,Conv1D,MaxPooling1D,Flatten,Dropout,LeakyReLU,LSTM\n",
    "from keras.utils.vis_utils import plot_model\n",
    "import keras\n",
    "from keras import layers\n"
   ]
  },
  {
   "cell_type": "code",
   "execution_count": 17,
   "metadata": {},
   "outputs": [
    {
     "data": {
      "text/plain": [
       "1972"
      ]
     },
     "execution_count": 17,
     "metadata": {},
     "output_type": "execute_result"
    }
   ],
   "source": [
    "X_train.shape[0]"
   ]
  },
  {
   "cell_type": "code",
   "execution_count": 20,
   "metadata": {},
   "outputs": [],
   "source": [
    "# 定义神经网络\n",
    "def baseline_model():\n",
    "\n",
    "    model = keras.Sequential()\n",
    "    #model.add(Dense(1024, input_shape=[1024])),\n",
    "    model.add(LSTM(32, input_shape=(X_train.shape[1], X_train.shape[2]))),\n",
    "    #model.add(LeakyReLU(0.2))\n",
    "    #model.add(Dense(64)),\n",
    "    #model.add(LeakyReLU(0.2))\n",
    "    model.add(Dense(1))\n",
    "    #model.add(Dense(1, activation='softmax'))\n",
    "    #plot_model(model, to_file='./model_classifier.png', show_shapes=True) # 保存网络结构为图片，这一步可以直接去掉\n",
    "    #print(model.summary()) # 显示网络结构\n",
    "    optimizer = tf.keras.optimizers.RMSprop(0.99)\n",
    "\n",
    "    model.compile(loss='mse',\n",
    "                optimizer=optimizer,\n",
    "                metrics=['mae', 'mse'])\n",
    "    #model.compile(loss='categorical_crossentropy',optimizer='adam', metrics=['accuracy'])\n",
    "    return model\n"
   ]
  },
  {
   "cell_type": "code",
   "execution_count": 21,
   "metadata": {},
   "outputs": [
    {
     "name": "stderr",
     "output_type": "stream",
     "text": [
      "C:\\Users\\Administrator\\AppData\\Local\\Temp\\ipykernel_25924\\418772456.py:3: DeprecationWarning: KerasRegressor is deprecated, use Sci-Keras (https://github.com/adriangb/scikeras) instead. See https://www.adriangb.com/scikeras/stable/migration.html for help migrating.\n",
      "  estimator = KerasRegressor(build_fn=baseline_model, epochs=3, batch_size=1, verbose=0)\n"
     ]
    },
    {
     "name": "stdout",
     "output_type": "stream",
     "text": [
      "均方误差(MSE):9.53820609275818\n",
      "根均方误差(RMSE):3.088398629186035\n",
      "测试集R^2:-44.76612186007186\n"
     ]
    }
   ],
   "source": [
    "from keras.wrappers.scikit_learn import KerasRegressor\n",
    "# 训练回归器\n",
    "estimator = KerasRegressor(build_fn=baseline_model, epochs=3, batch_size=1, verbose=0)\n",
    "estimator.fit(X_train, Y_train)\n",
    "yt = Y_test\n",
    "yp = estimator.predict(X_test) \n",
    "from sklearn.metrics import mean_squared_error, r2_score\n",
    "import numpy as np \n",
    "print(f\"均方误差(MSE):{mean_squared_error(yp, yt)}\")\n",
    "print(f\"根均方误差(RMSE):{np.sqrt(mean_squared_error(yp, yt))}\")\n",
    "print(f\"测试集R^2:{r2_score(yt, yp)}\")\n"
   ]
  },
  {
   "cell_type": "code",
   "execution_count": 64,
   "metadata": {},
   "outputs": [
    {
     "name": "stdout",
     "output_type": "stream",
     "text": [
      "\n",
      "0123456789101112131415161718192021222324252627282930313233343536373839404142434445464748495051525354555657585960616263646566676869707172737475767778798081828384858687888990919293949596979899\n",
      "100101102103104105106107108109110111112113114115116117118119120121122123124125126127128129130131132133134135136137138139140141142143144145146147148149150151152153154155156157158159160161162163164165166167168169170171172173174175176177178179180181182183184185186187188189190191192193194195196197198199\n",
      "200201202203204205206207208209210211212213214215216217218219220221222223224225226227228229230231232233234235236237238239240241242243244245246247248249250251252253254255256257258259260261262263264265266267268269270271272273274275276277278279280281282283284285286287288289290291292293294295296297298299\n",
      "300301302303304305306307308309310311312313314315316317318319320321322323324325326327328329330331332333334335336337338339340341342343344345346347348349350351352353354355356357358359360361362363364365366367368369370371372373374375376377378379380381382383384385386387388389390391392393394395396397398399\n",
      "400401402403404405406407408409410411412413414415416417418419420421422423424425426427428429430431432433434435436437438439440441442443444445446447448449450451452453454455456457458459460461462463464465466467468469470471472473474475476477478479480481482483484485486487488489490491492493494495496497498499"
     ]
    }
   ],
   "source": [
    "class PrintDot(keras.callbacks.Callback):\n",
    "  def on_epoch_end(self, epoch, logs):\n",
    "    if epoch % 100 == 0: print('')\n",
    "    print(epoch, end='')\n",
    "\n",
    "EPOCHS = 500\n",
    "\n",
    "history = estimator.fit(\n",
    "  X_train, Y_train,\n",
    "  epochs=EPOCHS, validation_split = 1, verbose=0,\n",
    "  callbacks=[PrintDot()])"
   ]
  },
  {
   "cell_type": "code",
   "execution_count": 65,
   "metadata": {},
   "outputs": [
    {
     "data": {
      "text/plain": [
       "array([335.7224, 335.7224, 335.7224, 335.7224, 335.7224, 335.7224,\n",
       "       335.7224, 335.7224, 335.7224, 335.7224, 335.7224, 335.7224,\n",
       "       335.7224, 335.7224, 335.7224, 335.7224, 335.7224, 335.7224,\n",
       "       335.7224, 335.7224, 335.7224, 335.7224, 335.7224, 335.7224,\n",
       "       335.7224, 335.7224, 335.7224, 335.7224, 335.7224, 335.7224,\n",
       "       335.7224, 335.7224, 335.7224, 335.7224, 335.7224, 335.7224,\n",
       "       335.7224, 335.7224, 335.7224, 335.7224, 335.7224, 335.7224,\n",
       "       335.7224, 335.7224, 335.7224, 335.7224, 335.7224, 335.7224,\n",
       "       335.7224, 335.7224, 335.7224, 335.7224, 335.7224, 335.7224,\n",
       "       335.7224, 335.7224, 335.7224, 335.7224, 335.7224, 335.7224,\n",
       "       335.7224, 335.7224, 335.7224, 335.7224, 335.7224, 335.7224,\n",
       "       335.7224, 335.7224, 335.7224, 335.7224, 335.7224, 335.7224,\n",
       "       335.7224, 335.7224, 335.7224, 335.7224, 335.7224, 335.7224,\n",
       "       335.7224, 335.7224, 335.7224, 335.7224, 335.7224, 335.7224,\n",
       "       335.7224, 335.7224, 335.7224, 335.7224, 335.7224, 335.7224,\n",
       "       335.7224, 335.7224, 335.7224, 335.7224, 335.7224, 335.7224,\n",
       "       335.7224, 335.7224, 335.7224, 335.7224, 335.7224, 335.7224,\n",
       "       335.7224, 335.7224, 335.7224, 335.7224, 335.7224, 335.7224],\n",
       "      dtype=float32)"
      ]
     },
     "execution_count": 65,
     "metadata": {},
     "output_type": "execute_result"
    }
   ],
   "source": [
    "estimator.predict(X_test)\n"
   ]
  },
  {
   "cell_type": "code",
   "execution_count": 67,
   "metadata": {},
   "outputs": [
    {
     "data": {
      "image/png": "[encoded data removed]",
      "text/plain": [
       "<Figure size 432x288 with 1 Axes>"
      ]
     },
     "metadata": {
      "needs_background": "light"
     },
     "output_type": "display_data"
    },
    {
     "data": {
      "image/png": "[encoded data removed]",
      "text/plain": [
       "<Figure size 432x288 with 1 Axes>"
      ]
     },
     "metadata": {
      "needs_background": "light"
     },
     "output_type": "display_data"
    }
   ],
   "source": [
    "import matplotlib.pyplot as plt\n",
    "hist = pd.DataFrame(history.history)\n",
    "hist['epoch'] = history.epoch\n",
    "hist.tail()\n",
    "def plot_history(history):\n",
    "  hist = pd.DataFrame(history.history)\n",
    "  hist['epoch'] = history.epoch\n",
    "\n",
    "  plt.figure()\n",
    "  plt.xlabel('Epoch')\n",
    "  plt.ylabel('Mean Abs Error [MPG]')\n",
    "  plt.plot(hist['epoch'], hist['mae'],\n",
    "           label='Train Error')\n",
    "  plt.plot(hist['epoch'], hist['val_mae'],\n",
    "           label = 'Val Error')\n",
    "  plt.ylim([0, 10])\n",
    "  plt.legend()\n",
    "\n",
    "  plt.figure()\n",
    "  plt.xlabel('Epoch')\n",
    "  plt.ylabel('Mean Square Error [$MPG^2$]')\n",
    "  plt.plot(hist['epoch'], hist['mse'],\n",
    "           label='Train Error')\n",
    "  plt.plot(hist['epoch'], hist['val_mse'],\n",
    "           label = 'Val Error')\n",
    "  plt.ylim([0,100])\n",
    "  plt.legend()\n",
    "  plt.show()\n",
    "\n",
    "\n",
    "plot_history(history)\n"
   ]
  },
  {
   "cell_type": "code",
   "execution_count": 61,
   "metadata": {},
   "outputs": [
    {
     "name": "stdout",
     "output_type": "stream",
     "text": [
      "\n",
      "0123456789101112131415161718192021222324252627282930313233343536373839404142434445464748495051525354555657585960616263646566676869707172737475767778798081828384858687888990919293949596979899\n",
      "100101102103"
     ]
    },
    {
     "data": {
      "image/png": "[encoded data removed]",
      "text/plain": [
       "<Figure size 432x288 with 1 Axes>"
      ]
     },
     "metadata": {
      "needs_background": "light"
     },
     "output_type": "display_data"
    },
    {
     "data": {
      "image/png": "[encoded data removed]",
      "text/plain": [
       "<Figure size 432x288 with 1 Axes>"
      ]
     },
     "metadata": {
      "needs_background": "light"
     },
     "output_type": "display_data"
    }
   ],
   "source": [
    "model = baseline_model()\n",
    "\n",
    "# patience 值用来检查改进 epochs 的数量\n",
    "early_stop = keras.callbacks.EarlyStopping(monitor='val_loss', patience=100)\n",
    "\n",
    "history = model.fit(X_train, Y_train, epochs=EPOCHS,\n",
    "                    validation_split = 0.1, verbose=0, callbacks=[early_stop, PrintDot()])\n",
    "\n",
    "plot_history(history)"
   ]
  },
  {
   "cell_type": "code",
   "execution_count": 60,
   "metadata": {},
   "outputs": [
    {
     "ename": "AttributeError",
     "evalue": "'History' object has no attribute 'predict'",
     "output_type": "error",
     "traceback": [
      "\u001b[1;31m---------------------------------------------------------------------------\u001b[0m",
      "\u001b[1;31mAttributeError\u001b[0m                            Traceback (most recent call last)",
      "\u001b[1;32mc:\\Users\\Administrator\\Desktop\\算法\\lstm\\test.ipynb Cell 18'\u001b[0m in \u001b[0;36m<cell line: 2>\u001b[1;34m()\u001b[0m\n\u001b[0;32m      <a href='vscode-notebook-cell:/c%3A/Users/Administrator/Desktop/%E7%AE%97%E6%B3%95/lstm/test.ipynb#ch0000017?line=0'>1</a>\u001b[0m yt \u001b[39m=\u001b[39m Y_test\n\u001b[1;32m----> <a href='vscode-notebook-cell:/c%3A/Users/Administrator/Desktop/%E7%AE%97%E6%B3%95/lstm/test.ipynb#ch0000017?line=1'>2</a>\u001b[0m yp \u001b[39m=\u001b[39m history\u001b[39m.\u001b[39;49mpredict(X_test)\n",
      "\u001b[1;31mAttributeError\u001b[0m: 'History' object has no attribute 'predict'"
     ]
    }
   ],
   "source": [
    "yt = Y_test\n",
    "yp = history.predict(X_test) \n"
   ]
  },
  {
   "cell_type": "code",
   "execution_count": 59,
   "metadata": {},
   "outputs": [
    {
     "name": "stdout",
     "output_type": "stream",
     "text": [
      "均方误差(MSE):2.9583413589952725\n",
      "根均方误差(RMSE):1.7199829531118245\n",
      "测试集R^2:-0.8953518586174853\n"
     ]
    }
   ],
   "source": [
    "from sklearn.metrics import mean_squared_error, r2_score\n",
    "import numpy as np \n",
    "print(f\"均方误差(MSE):{mean_squared_error(yp, yt)}\")\n",
    "print(f\"根均方误差(RMSE):{np.sqrt(mean_squared_error(yp, yt))}\")\n",
    "print(f\"测试集R^2:{r2_score(yt, yp)}\")\n"
   ]
  },
  {
   "cell_type": "code",
   "execution_count": 23,
   "metadata": {},
   "outputs": [
    {
     "data": {
      "text/plain": [
       "array([332.22217, 332.22217, 332.22217, 332.22217, 332.22217, 332.22217,\n",
       "       332.22217, 332.22217, 332.22217, 332.22217, 332.22217, 332.22217,\n",
       "       332.22217, 332.22217, 332.22217, 332.22217, 332.22217, 332.22217,\n",
       "       332.22217, 332.22217, 332.22217, 332.22217, 332.22217, 332.22217,\n",
       "       332.22217, 332.22217, 332.22217, 332.22217, 332.22217, 332.22217,\n",
       "       332.22217, 332.22217, 332.22217, 332.22217, 332.22217, 332.22217,\n",
       "       332.22217, 332.22217, 332.22217, 332.22217, 332.22217, 332.22217,\n",
       "       332.22217, 332.22217, 332.22217, 332.22217, 332.22217, 332.22217,\n",
       "       332.22217, 332.22217, 332.22217, 332.22217, 332.22217, 332.22217,\n",
       "       332.22217, 332.22217, 332.22217, 332.22217, 332.22217, 332.22217,\n",
       "       332.22217, 332.22217, 332.22217, 332.22217, 332.22217, 332.22217,\n",
       "       332.22217, 332.22217, 332.22217, 332.22217, 332.22217, 332.22217,\n",
       "       332.22217, 332.22217, 332.22217, 332.22217, 332.22217, 332.22217,\n",
       "       332.22217, 332.22217, 332.22217, 332.22217, 332.22217, 332.22217,\n",
       "       332.22217, 332.22217, 332.22217, 332.22217, 332.22217, 332.22217,\n",
       "       332.22217, 332.22217, 332.22217, 332.22217, 332.22217, 332.22217,\n",
       "       332.22217, 332.22217, 332.22217, 332.22217, 332.22217, 332.22217,\n",
       "       332.22217, 332.22217, 332.22217, 332.22217, 332.22217, 332.22217],\n",
       "      dtype=float32)"
      ]
     },
     "execution_count": 23,
     "metadata": {},
     "output_type": "execute_result"
    }
   ],
   "source": [
    "yp"
   ]
  },
  {
   "cell_type": "code",
   "execution_count": 24,
   "metadata": {},
   "outputs": [
    {
     "data": {
      "text/plain": [
       "array([[329.6],\n",
       "       [330.6],\n",
       "       [329.4],\n",
       "       [330.7],\n",
       "       [329.2],\n",
       "       [331.2],\n",
       "       [329.9],\n",
       "       [332.4],\n",
       "       [329.5],\n",
       "       [331.4],\n",
       "       [328.9],\n",
       "       [329.1],\n",
       "       [330.4],\n",
       "       [332.3],\n",
       "       [329.5],\n",
       "       [331.2],\n",
       "       [329.7],\n",
       "       [332.2],\n",
       "       [330.8],\n",
       "       [329.9],\n",
       "       [331.7],\n",
       "       [328.8],\n",
       "       [329.5],\n",
       "       [330. ],\n",
       "       [330. ],\n",
       "       [330.3],\n",
       "       [329.2],\n",
       "       [330.1],\n",
       "       [328.8],\n",
       "       [329. ],\n",
       "       [329.9],\n",
       "       [328.9],\n",
       "       [331.7],\n",
       "       [330. ],\n",
       "       [330.9],\n",
       "       [331.8],\n",
       "       [330.5],\n",
       "       [331.8],\n",
       "       [330.2],\n",
       "       [330.3],\n",
       "       [329.6],\n",
       "       [329.3],\n",
       "       [328.9],\n",
       "       [329.4],\n",
       "       [324.5],\n",
       "       [328.7],\n",
       "       [329.1],\n",
       "       [330.3],\n",
       "       [330.2],\n",
       "       [330.5],\n",
       "       [329. ],\n",
       "       [328.9],\n",
       "       [329.9],\n",
       "       [332.2],\n",
       "       [331.3],\n",
       "       [328.7],\n",
       "       [330.4],\n",
       "       [331.8],\n",
       "       [331.3],\n",
       "       [331.3],\n",
       "       [332.1],\n",
       "       [328.6],\n",
       "       [331.7],\n",
       "       [329.5],\n",
       "       [330.1],\n",
       "       [328.8],\n",
       "       [329.5],\n",
       "       [332.2],\n",
       "       [331.5],\n",
       "       [329. ],\n",
       "       [329.4],\n",
       "       [330.1],\n",
       "       [329.3],\n",
       "       [330.5],\n",
       "       [331. ],\n",
       "       [332.3],\n",
       "       [329.6],\n",
       "       [332.1],\n",
       "       [330.7],\n",
       "       [330.1],\n",
       "       [332. ],\n",
       "       [330.5],\n",
       "       [330.2],\n",
       "       [329. ],\n",
       "       [330.1],\n",
       "       [331.6],\n",
       "       [331.1],\n",
       "       [329. ],\n",
       "       [329.5],\n",
       "       [329.3],\n",
       "       [330.8],\n",
       "       [328.9],\n",
       "       [332.2],\n",
       "       [332.1],\n",
       "       [332.2],\n",
       "       [330.2],\n",
       "       [331.7],\n",
       "       [329.5],\n",
       "       [329.5],\n",
       "       [332.3],\n",
       "       [330.1],\n",
       "       [328.8],\n",
       "       [331.2],\n",
       "       [331. ],\n",
       "       [331. ],\n",
       "       [332.2],\n",
       "       [329.3],\n",
       "       [331.4]])"
      ]
     },
     "execution_count": 24,
     "metadata": {},
     "output_type": "execute_result"
    }
   ],
   "source": [
    "yt"
   ]
  },
  {
   "cell_type": "code",
   "execution_count": null,
   "metadata": {},
   "outputs": [],
   "source": [
    "\n",
    "'''from sklearn.model_selection import KFold\n",
    "from sklearn.model_selection import cross_val_score\n",
    "\n",
    "estimator = KerasClassifier(build_fn=baseline_model, epochs=20, batch_size=1, verbose=1)\n",
    "kfold = KFold(n_splits = 10, shuffle = True, random_state = 7)\n",
    "results = cross_val_score(estimator, X, Y_onehot, cv = kfold)\n",
    "print('Baseline: %.2f (%.2f) MSE' % (results.mean(), results.std()))'''\n"
   ]
  },
  {
   "cell_type": "code",
   "execution_count": 55,
   "metadata": {},
   "outputs": [],
   "source": [
    "# 将其模型转换为json\n",
    "model_json = estimator.model.to_json()\n",
    "with open(r\".\\Rmodel.json\",'w')as json_file:\n",
    "    json_file.write(model_json)# 权重不在json中,只保存网络结构\n",
    "estimator.model.save_weights('Rmodel.h5')"
   ]
  },
  {
   "cell_type": "code",
   "execution_count": 56,
   "metadata": {},
   "outputs": [],
   "source": [
    "# 加载模型用做预测\n",
    "from keras.models import model_from_json\n",
    "json_file = open(r\".\\Rmodel.json\", \"r\")\n",
    "loaded_model_json = json_file.read()\n",
    "json_file.close()\n",
    "loaded_model = model_from_json(loaded_model_json)\n",
    "loaded_model.load_weights(\"Rmodel.h5\")\n"
   ]
  },
  {
   "cell_type": "code",
   "execution_count": 60,
   "metadata": {},
   "outputs": [
    {
     "data": {
      "text/plain": [
       "array([[18.407],\n",
       "       [17.981],\n",
       "       [18.05 ],\n",
       "       [18.05 ],\n",
       "       [18.407],\n",
       "       [17.981],\n",
       "       [18.05 ],\n",
       "       [17.981],\n",
       "       [17.89 ],\n",
       "       [17.89 ],\n",
       "       [17.682],\n",
       "       [17.385],\n",
       "       [ 3.966],\n",
       "       [18.03 ],\n",
       "       [17.89 ],\n",
       "       [17.89 ],\n",
       "       [18.05 ],\n",
       "       [18.24 ],\n",
       "       [18.03 ],\n",
       "       [17.89 ],\n",
       "       [17.981],\n",
       "       [18.24 ],\n",
       "       [17.89 ],\n",
       "       [18.03 ],\n",
       "       [18.05 ],\n",
       "       [17.385],\n",
       "       [18.407],\n",
       "       [17.682],\n",
       "       [18.407],\n",
       "       [18.03 ],\n",
       "       [18.407],\n",
       "       [17.89 ],\n",
       "       [17.385],\n",
       "       [17.981],\n",
       "       [18.24 ],\n",
       "       [18.05 ],\n",
       "       [18.05 ],\n",
       "       [18.24 ],\n",
       "       [17.385],\n",
       "       [17.89 ],\n",
       "       [17.385],\n",
       "       [17.981],\n",
       "       [17.981],\n",
       "       [18.24 ],\n",
       "       [17.89 ],\n",
       "       [18.407],\n",
       "       [17.89 ],\n",
       "       [18.24 ],\n",
       "       [17.89 ],\n",
       "       [17.385],\n",
       "       [17.682],\n",
       "       [18.03 ],\n",
       "       [18.407],\n",
       "       [17.385],\n",
       "       [17.89 ],\n",
       "       [17.981],\n",
       "       [17.385],\n",
       "       [17.682],\n",
       "       [18.24 ],\n",
       "       [18.407],\n",
       "       [18.24 ],\n",
       "       [17.682],\n",
       "       [17.89 ],\n",
       "       [17.385],\n",
       "       [17.385],\n",
       "       [18.05 ],\n",
       "       [18.03 ],\n",
       "       [17.682],\n",
       "       [17.385],\n",
       "       [17.385],\n",
       "       [17.385],\n",
       "       [17.89 ],\n",
       "       [17.89 ],\n",
       "       [17.89 ],\n",
       "       [17.981],\n",
       "       [18.24 ],\n",
       "       [ 3.862],\n",
       "       [18.05 ],\n",
       "       [18.03 ],\n",
       "       [17.385],\n",
       "       [18.05 ],\n",
       "       [17.981],\n",
       "       [18.03 ],\n",
       "       [18.03 ],\n",
       "       [17.89 ],\n",
       "       [17.981],\n",
       "       [17.385],\n",
       "       [18.03 ],\n",
       "       [18.03 ],\n",
       "       [17.682],\n",
       "       [18.03 ],\n",
       "       [18.24 ],\n",
       "       [18.03 ],\n",
       "       [18.05 ],\n",
       "       [17.89 ],\n",
       "       [17.385],\n",
       "       [17.89 ],\n",
       "       [18.03 ],\n",
       "       [17.682],\n",
       "       [18.03 ],\n",
       "       [17.385],\n",
       "       [ 3.878],\n",
       "       [17.981],\n",
       "       [18.407],\n",
       "       [17.385],\n",
       "       [17.682],\n",
       "       [ 3.693],\n",
       "       [17.385],\n",
       "       [ 3.878],\n",
       "       [18.03 ],\n",
       "       [17.981],\n",
       "       [17.89 ],\n",
       "       [17.682],\n",
       "       [18.05 ],\n",
       "       [18.24 ],\n",
       "       [18.24 ],\n",
       "       [17.981],\n",
       "       [17.89 ],\n",
       "       [17.385],\n",
       "       [18.407],\n",
       "       [18.407],\n",
       "       [17.89 ],\n",
       "       [18.05 ],\n",
       "       [18.03 ],\n",
       "       [17.682],\n",
       "       [18.24 ],\n",
       "       [18.407],\n",
       "       [17.981],\n",
       "       [18.05 ],\n",
       "       [ 3.966],\n",
       "       [18.03 ],\n",
       "       [18.05 ],\n",
       "       [17.682],\n",
       "       [17.89 ],\n",
       "       [18.03 ],\n",
       "       [18.407],\n",
       "       [17.682],\n",
       "       [18.407],\n",
       "       [18.03 ],\n",
       "       [18.24 ],\n",
       "       [18.05 ],\n",
       "       [17.89 ],\n",
       "       [17.385],\n",
       "       [18.407],\n",
       "       [17.981],\n",
       "       [17.682],\n",
       "       [18.24 ],\n",
       "       [18.05 ],\n",
       "       [17.981],\n",
       "       [17.981],\n",
       "       [18.24 ],\n",
       "       [17.981],\n",
       "       [17.682],\n",
       "       [17.981],\n",
       "       [18.05 ],\n",
       "       [18.24 ],\n",
       "       [18.05 ],\n",
       "       [18.05 ],\n",
       "       [17.682],\n",
       "       [17.682],\n",
       "       [17.89 ],\n",
       "       [17.89 ],\n",
       "       [17.385],\n",
       "       [18.03 ],\n",
       "       [18.407],\n",
       "       [17.385],\n",
       "       [18.03 ],\n",
       "       [17.89 ],\n",
       "       [17.981],\n",
       "       [18.407],\n",
       "       [ 3.913],\n",
       "       [18.05 ],\n",
       "       [18.407],\n",
       "       [18.05 ],\n",
       "       [18.24 ],\n",
       "       [17.981],\n",
       "       [17.385],\n",
       "       [18.407],\n",
       "       [ 3.78 ],\n",
       "       [18.05 ],\n",
       "       [17.89 ],\n",
       "       [18.24 ],\n",
       "       [17.682],\n",
       "       [18.24 ],\n",
       "       [18.05 ],\n",
       "       [17.981],\n",
       "       [18.03 ],\n",
       "       [18.407],\n",
       "       [18.03 ],\n",
       "       [18.407],\n",
       "       [18.05 ],\n",
       "       [17.89 ],\n",
       "       [17.89 ],\n",
       "       [17.89 ],\n",
       "       [17.89 ],\n",
       "       [ 3.693],\n",
       "       [18.05 ],\n",
       "       [18.407],\n",
       "       [17.682],\n",
       "       [17.682],\n",
       "       [17.981],\n",
       "       [17.682],\n",
       "       [17.385],\n",
       "       [18.05 ],\n",
       "       [18.24 ],\n",
       "       [ 3.966],\n",
       "       [ 3.862],\n",
       "       [18.03 ],\n",
       "       [17.385],\n",
       "       [17.89 ],\n",
       "       [17.385],\n",
       "       [ 3.913],\n",
       "       [17.981],\n",
       "       [17.682],\n",
       "       [18.05 ],\n",
       "       [17.981],\n",
       "       [18.407],\n",
       "       [18.407],\n",
       "       [17.385],\n",
       "       [18.05 ],\n",
       "       [18.03 ],\n",
       "       [18.03 ],\n",
       "       [18.24 ],\n",
       "       [18.407],\n",
       "       [17.89 ],\n",
       "       [18.407],\n",
       "       [18.05 ],\n",
       "       [18.03 ],\n",
       "       [17.89 ],\n",
       "       [17.89 ],\n",
       "       [17.981],\n",
       "       [17.981],\n",
       "       [18.407],\n",
       "       [18.407],\n",
       "       [17.89 ],\n",
       "       [17.981],\n",
       "       [18.407],\n",
       "       [18.03 ],\n",
       "       [17.385],\n",
       "       [18.05 ],\n",
       "       [18.24 ],\n",
       "       [17.682],\n",
       "       [17.981],\n",
       "       [18.407],\n",
       "       [18.03 ],\n",
       "       [18.05 ],\n",
       "       [18.05 ],\n",
       "       [18.24 ],\n",
       "       [18.407],\n",
       "       [18.24 ],\n",
       "       [18.05 ],\n",
       "       [18.03 ],\n",
       "       [18.24 ],\n",
       "       [ 3.878],\n",
       "       [18.05 ],\n",
       "       [17.981],\n",
       "       [18.05 ],\n",
       "       [18.03 ],\n",
       "       [18.05 ],\n",
       "       [18.03 ]])"
      ]
     },
     "execution_count": 60,
     "metadata": {},
     "output_type": "execute_result"
    }
   ],
   "source": [
    "Y_test"
   ]
  },
  {
   "cell_type": "code",
   "execution_count": 58,
   "metadata": {},
   "outputs": [
    {
     "name": "stdout",
     "output_type": "stream",
     "text": [
      "9/9 [==============================] - 0s 9ms/step\n",
      "[[1.]\n",
      " [1.]\n",
      " [1.]\n",
      " [1.]\n",
      " [1.]\n",
      " [1.]\n",
      " [1.]\n",
      " [1.]\n",
      " [1.]\n",
      " [1.]\n",
      " [1.]\n",
      " [1.]\n",
      " [1.]\n",
      " [1.]\n",
      " [1.]\n",
      " [1.]\n",
      " [1.]\n",
      " [1.]\n",
      " [1.]\n",
      " [1.]\n",
      " [1.]\n",
      " [1.]\n",
      " [1.]\n",
      " [1.]\n",
      " [1.]\n",
      " [1.]\n",
      " [1.]\n",
      " [1.]\n",
      " [1.]\n",
      " [1.]\n",
      " [1.]\n",
      " [1.]\n",
      " [1.]\n",
      " [1.]\n",
      " [1.]\n",
      " [1.]\n",
      " [1.]\n",
      " [1.]\n",
      " [1.]\n",
      " [1.]\n",
      " [1.]\n",
      " [1.]\n",
      " [1.]\n",
      " [1.]\n",
      " [1.]\n",
      " [1.]\n",
      " [1.]\n",
      " [1.]\n",
      " [1.]\n",
      " [1.]\n",
      " [1.]\n",
      " [1.]\n",
      " [1.]\n",
      " [1.]\n",
      " [1.]\n",
      " [1.]\n",
      " [1.]\n",
      " [1.]\n",
      " [1.]\n",
      " [1.]\n",
      " [1.]\n",
      " [1.]\n",
      " [1.]\n",
      " [1.]\n",
      " [1.]\n",
      " [1.]\n",
      " [1.]\n",
      " [1.]\n",
      " [1.]\n",
      " [1.]\n",
      " [1.]\n",
      " [1.]\n",
      " [1.]\n",
      " [1.]\n",
      " [1.]\n",
      " [1.]\n",
      " [1.]\n",
      " [1.]\n",
      " [1.]\n",
      " [1.]\n",
      " [1.]\n",
      " [1.]\n",
      " [1.]\n",
      " [1.]\n",
      " [1.]\n",
      " [1.]\n",
      " [1.]\n",
      " [1.]\n",
      " [1.]\n",
      " [1.]\n",
      " [1.]\n",
      " [1.]\n",
      " [1.]\n",
      " [1.]\n",
      " [1.]\n",
      " [1.]\n",
      " [1.]\n",
      " [1.]\n",
      " [1.]\n",
      " [1.]\n",
      " [1.]\n",
      " [1.]\n",
      " [1.]\n",
      " [1.]\n",
      " [1.]\n",
      " [1.]\n",
      " [1.]\n",
      " [1.]\n",
      " [1.]\n",
      " [1.]\n",
      " [1.]\n",
      " [1.]\n",
      " [1.]\n",
      " [1.]\n",
      " [1.]\n",
      " [1.]\n",
      " [1.]\n",
      " [1.]\n",
      " [1.]\n",
      " [1.]\n",
      " [1.]\n",
      " [1.]\n",
      " [1.]\n",
      " [1.]\n",
      " [1.]\n",
      " [1.]\n",
      " [1.]\n",
      " [1.]\n",
      " [1.]\n",
      " [1.]\n",
      " [1.]\n",
      " [1.]\n",
      " [1.]\n",
      " [1.]\n",
      " [1.]\n",
      " [1.]\n",
      " [1.]\n",
      " [1.]\n",
      " [1.]\n",
      " [1.]\n",
      " [1.]\n",
      " [1.]\n",
      " [1.]\n",
      " [1.]\n",
      " [1.]\n",
      " [1.]\n",
      " [1.]\n",
      " [1.]\n",
      " [1.]\n",
      " [1.]\n",
      " [1.]\n",
      " [1.]\n",
      " [1.]\n",
      " [1.]\n",
      " [1.]\n",
      " [1.]\n",
      " [1.]\n",
      " [1.]\n",
      " [1.]\n",
      " [1.]\n",
      " [1.]\n",
      " [1.]\n",
      " [1.]\n",
      " [1.]\n",
      " [1.]\n",
      " [1.]\n",
      " [1.]\n",
      " [1.]\n",
      " [1.]\n",
      " [1.]\n",
      " [1.]\n",
      " [1.]\n",
      " [1.]\n",
      " [1.]\n",
      " [1.]\n",
      " [1.]\n",
      " [1.]\n",
      " [1.]\n",
      " [1.]\n",
      " [1.]\n",
      " [1.]\n",
      " [1.]\n",
      " [1.]\n",
      " [1.]\n",
      " [1.]\n",
      " [1.]\n",
      " [1.]\n",
      " [1.]\n",
      " [1.]\n",
      " [1.]\n",
      " [1.]\n",
      " [1.]\n",
      " [1.]\n",
      " [1.]\n",
      " [1.]\n",
      " [1.]\n",
      " [1.]\n",
      " [1.]\n",
      " [1.]\n",
      " [1.]\n",
      " [1.]\n",
      " [1.]\n",
      " [1.]\n",
      " [1.]\n",
      " [1.]\n",
      " [1.]\n",
      " [1.]\n",
      " [1.]\n",
      " [1.]\n",
      " [1.]\n",
      " [1.]\n",
      " [1.]\n",
      " [1.]\n",
      " [1.]\n",
      " [1.]\n",
      " [1.]\n",
      " [1.]\n",
      " [1.]\n",
      " [1.]\n",
      " [1.]\n",
      " [1.]\n",
      " [1.]\n",
      " [1.]\n",
      " [1.]\n",
      " [1.]\n",
      " [1.]\n",
      " [1.]\n",
      " [1.]\n",
      " [1.]\n",
      " [1.]\n",
      " [1.]\n",
      " [1.]\n",
      " [1.]\n",
      " [1.]\n",
      " [1.]\n",
      " [1.]\n",
      " [1.]\n",
      " [1.]\n",
      " [1.]\n",
      " [1.]\n",
      " [1.]\n",
      " [1.]\n",
      " [1.]\n",
      " [1.]\n",
      " [1.]\n",
      " [1.]\n",
      " [1.]\n",
      " [1.]\n",
      " [1.]\n",
      " [1.]\n",
      " [1.]\n",
      " [1.]\n",
      " [1.]\n",
      " [1.]\n",
      " [1.]\n",
      " [1.]\n",
      " [1.]\n",
      " [1.]\n",
      " [1.]\n",
      " [1.]]\n"
     ]
    }
   ],
   "source": [
    "print(loaded_model.predict(X_test))"
   ]
  },
  {
   "cell_type": "code",
   "execution_count": 57,
   "metadata": {},
   "outputs": [
    {
     "name": "stdout",
     "output_type": "stream",
     "text": [
      "loaded model from disk\n",
      "The accuracy of the classification model:\n",
      "accuracy: 0.00%\n",
      "9/9 [==============================] - 0s 5ms/step\n",
      "predicted label:\n",
      " [0 0 0 0 0 0 0 0 0 0 0 0 0 0 0 0 0 0 0 0 0 0 0 0 0 0 0 0 0 0 0 0 0 0 0 0 0\n",
      " 0 0 0 0 0 0 0 0 0 0 0 0 0 0 0 0 0 0 0 0 0 0 0 0 0 0 0 0 0 0 0 0 0 0 0 0 0\n",
      " 0 0 0 0 0 0 0 0 0 0 0 0 0 0 0 0 0 0 0 0 0 0 0 0 0 0 0 0 0 0 0 0 0 0 0 0 0\n",
      " 0 0 0 0 0 0 0 0 0 0 0 0 0 0 0 0 0 0 0 0 0 0 0 0 0 0 0 0 0 0 0 0 0 0 0 0 0\n",
      " 0 0 0 0 0 0 0 0 0 0 0 0 0 0 0 0 0 0 0 0 0 0 0 0 0 0 0 0 0 0 0 0 0 0 0 0 0\n",
      " 0 0 0 0 0 0 0 0 0 0 0 0 0 0 0 0 0 0 0 0 0 0 0 0 0 0 0 0 0 0 0 0 0 0 0 0 0\n",
      " 0 0 0 0 0 0 0 0 0 0 0 0 0 0 0 0 0 0 0 0 0 0 0 0 0 0 0 0 0 0 0 0 0 0 0 0 0\n",
      " 0]\n"
     ]
    }
   ],
   "source": [
    "print(\"loaded model from disk\")\n",
    "loaded_model.compile(loss='categorical_crossentropy', optimizer='adam', metrics=['accuracy'])\n",
    "# 分类准确率\n",
    "print(\"The accuracy of the classification model:\")\n",
    "scores = loaded_model.evaluate(X_test, Y_test, verbose=0)\n",
    "print('%s: %.2f%%' % (loaded_model.metrics_names[1], scores[1] * 100))\n",
    "# 输出预测类别\n",
    "predicted = loaded_model.predict(X_test)\n",
    "predicted_label = np.argmax(predicted, axis = 1)\n",
    "print(\"predicted label:\\n \" + str(predicted_label))"
   ]
  },
  {
   "cell_type": "code",
   "execution_count": 25,
   "metadata": {},
   "outputs": [],
   "source": [
    "from sklearn.metrics import confusion_matrix\n",
    "import matplotlib.pyplot as plt\n",
    "import numpy as np"
   ]
  },
  {
   "cell_type": "code",
   "execution_count": 26,
   "metadata": {},
   "outputs": [],
   "source": [
    "labels = ['0', '1', '2']"
   ]
  },
  {
   "cell_type": "code",
   "execution_count": 94,
   "metadata": {},
   "outputs": [
    {
     "data": {
      "text/plain": [
       "array([0, 0, 0, 0, 2, 1, 1, 0, 0, 0, 0, 0, 2, 1, 0, 0, 0, 1, 0, 0, 0, 1,\n",
       "       0, 0, 2, 0, 2, 0, 0, 0, 0, 0, 2, 1, 2, 0, 1, 0, 2, 0, 1, 0, 1, 0])"
      ]
     },
     "execution_count": 94,
     "metadata": {},
     "output_type": "execute_result"
    }
   ],
   "source": [
    "predicted_label"
   ]
  },
  {
   "cell_type": "code",
   "execution_count": 97,
   "metadata": {},
   "outputs": [
    {
     "data": {
      "text/plain": [
       "array([ 0.,  0.,  0.,  0.,  0.,  0.,  0.,  0.,  0.,  0.,  0.,  0.,  0.,\n",
       "        0.,  0.,  0.,  0.,  0.,  0.,  0.,  0., -1.,  0.,  0.,  0.,  0.,\n",
       "        0.,  0.,  0.,  0.,  0.,  0., -1.,  0., -1.,  0.,  0.,  0.,  0.,\n",
       "        0.,  0.,  0.,  0.,  0.])"
      ]
     },
     "execution_count": 97,
     "metadata": {},
     "output_type": "execute_result"
    }
   ],
   "source": [
    "np.array(to_label(y_pred))-predicted_label"
   ]
  },
  {
   "cell_type": "code",
   "execution_count": 90,
   "metadata": {},
   "outputs": [],
   "source": [
    "y_true = predicted_label\n",
    "y_pred = Y_test\n",
    "\n",
    "tick_marks = np.array(range(len(labels))) + 0.5\n",
    "\n",
    "def plot_confusion_matrix(cm, title='Confusion Matrix', cmap=plt.cm.binary):\n",
    "    plt.imshow(cm, interpolation='nearest', cmap=cmap)\n",
    "    plt.title(title)\n",
    "    plt.colorbar()\n",
    "    xlocations = np.array(range(len(labels)))\n",
    "    plt.xticks(xlocations, labels, rotation=90)\n",
    "    plt.yticks(xlocations, labels)\n",
    "    plt.ylabel('True label')\n",
    "    plt.xlabel('Predicted label')\n"
   ]
  },
  {
   "cell_type": "code",
   "execution_count": 77,
   "metadata": {},
   "outputs": [],
   "source": [
    "def to_label(x):\n",
    "    a = []\n",
    "    for i in range(x.shape[0]):\n",
    "        a = np.append(a, x[i].tolist().index(1))\n",
    "    return a"
   ]
  },
  {
   "cell_type": "code",
   "execution_count": 93,
   "metadata": {},
   "outputs": [
    {
     "name": "stdout",
     "output_type": "stream",
     "text": [
      "[[1.   0.   0.  ]\n",
      " [0.11 0.89 0.  ]\n",
      " [0.   0.29 0.71]]\n"
     ]
    },
    {
     "data": {
      "image/png": "[encoded data removed]",
      "text/plain": [
       "<Figure size 1440x960 with 2 Axes>"
      ]
     },
     "metadata": {
      "needs_background": "light"
     },
     "output_type": "display_data"
    }
   ],
   "source": [
    "cm = confusion_matrix(y_true, np.array(to_label(y_pred)))\n",
    "np.set_printoptions(precision=2)\n",
    "cm_normalized = cm.astype('float') / cm.sum(axis=1)[:, np.newaxis]\n",
    "print (cm_normalized)\n",
    "plt.figure(figsize=(12, 8), dpi=120)\n",
    "\n",
    "ind_array = np.arange(len(labels))\n",
    "x, y = np.meshgrid(ind_array, ind_array)\n",
    "\n",
    "for x_val, y_val in zip(x.flatten(), y.flatten()):\n",
    "    c = cm_normalized[y_val][x_val]\n",
    "    if c > 0.01:\n",
    "        plt.text(x_val, y_val, \"%0.2f\" % (c,), color='red', fontsize=7, va='center', ha='center')\n",
    "# offset the tick\n",
    "plt.gca().set_xticks(tick_marks, minor=True)\n",
    "plt.gca().set_yticks(tick_marks, minor=True)\n",
    "plt.gca().xaxis.set_ticks_position('none')\n",
    "plt.gca().yaxis.set_ticks_position('none')\n",
    "plt.grid(True, which='minor', linestyle='-')\n",
    "plt.gcf().subplots_adjust(bottom=0.15)\n",
    "\n",
    "plot_confusion_matrix(cm_normalized, title='Normalized confusion matrix')\n",
    "# show confusion matrix\n",
    "plt.savefig('.confusion_matrix.png', format='png')\n",
    "plt.show()\n"
   ]
  },
  {
   "cell_type": "markdown",
   "metadata": {},
   "source": [
    "接下来，利用Boston数据集进行KerasRegressior使用"
   ]
  },
  {
   "cell_type": "code",
   "execution_count": 37,
   "metadata": {},
   "outputs": [],
   "source": [
    "from sklearn import datasets\n",
    "import numpy as np\n",
    "from keras.models import Sequential\n",
    "from keras.layers import Dense\n",
    "from keras.wrappers.scikit_learn import KerasRegressor\n",
    "from sklearn.model_selection import cross_val_score\n",
    "from sklearn.model_selection import KFold\n",
    " \n",
    "# 导入数据\n",
    "dataset = datasets.load_boston()\n",
    " \n",
    "x = dataset.data\n",
    "Y = dataset.target\n",
    " \n",
    "# 设定随机种子\n",
    "seed = 7\n",
    "np.random.seed(seed)"
   ]
  },
  {
   "cell_type": "code",
   "execution_count": 1,
   "metadata": {},
   "outputs": [
    {
     "ename": "NameError",
     "evalue": "name 'Y' is not defined",
     "output_type": "error",
     "traceback": [
      "\u001b[0;31m---------------------------------------------------------------------------\u001b[0m",
      "\u001b[0;31mNameError\u001b[0m                                 Traceback (most recent call last)",
      "\u001b[1;32m/home/jkd/PY/1D_CNN/test.ipynb Cell 12'\u001b[0m in \u001b[0;36m<cell line: 1>\u001b[0;34m()\u001b[0m\n\u001b[0;32m----> <a href='vscode-notebook-cell:/home/jkd/PY/1D_CNN/test.ipynb#ch0000011?line=0'>1</a>\u001b[0m Y\n",
      "\u001b[0;31mNameError\u001b[0m: name 'Y' is not defined"
     ]
    }
   ],
   "source": [
    "Y"
   ]
  },
  {
   "cell_type": "code",
   "execution_count": null,
   "metadata": {},
   "outputs": [],
   "source": [
    "# 构建模型函数\n",
    "def creat_model(units_list=[13],optimizer='adam',init='normal'):\n",
    "    # 构建模型\n",
    "    model = Sequential()\n",
    "    \n",
    "    # 构建第一个隐藏层和输入层\n",
    "    units = units_list[0]\n",
    "    model.add(Dense(units=units,activation = 'relu',input_dim=13,kernel_initializer = init))\n",
    "    # 构建更多隐藏层\n",
    "    for units in units_list[1]:\n",
    "        model.add(Dense(units=units,activation='relu', kernel_initializer = init))\n",
    "        \n",
    "    # 构建输出层，由于回归问题不需要对预测结果进行分类，因此不需要激活函数\n",
    "    model.add(Dense(units=1,kernel_initializer = init))\n",
    "    \n",
    "    # 编译函数,指定用于评估一组权重的损失函数loss（回归问题一般用均方误差MSE）、用于搜索网络不同权重的优化器optimizer\n",
    "    model.compile(loss='mean_squared_error',optimizer = optimizer)\n",
    "    \n",
    "    return model "
   ]
  }
 ],
 "metadata": {
  "interpreter": {
   "hash": "39b2bab454580712cf55c788a541ea0b7df081390d1d4d3fa0a04adda7d0cfc5"
  },
  "kernelspec": {
   "display_name": "Python 3.8.13 ('TF')",
   "language": "python",
   "name": "python3"
  },
  "language_info": {
   "codemirror_mode": {
    "name": "ipython",
    "version": 3
   },
   "file_extension": ".py",
   "mimetype": "text/x-python",
   "name": "python",
   "nbconvert_exporter": "python",
   "pygments_lexer": "ipython3",
   "version": "3.8.13"
  },
  "orig_nbformat": 4
 },
 "nbformat": 4,
 "nbformat_minor": 2
}
